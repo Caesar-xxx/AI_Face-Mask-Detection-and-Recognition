{
 "cells": [
  {
   "cell_type": "code",
   "execution_count": 1,
   "id": "54e3f2f7-3188-45e0-9424-9f0a9a68a0c5",
   "metadata": {},
   "outputs": [],
   "source": [
    "# # 步骤\n",
    "# 1、读取numpy文件\n",
    "# 2、onehot独热编码\n",
    "# 3、分为tain和test数据\n",
    "# 4、搭建CNN模型\n",
    "# 5、训练模型\n",
    "# 6、保存模型\n"
   ]
  },
  {
   "cell_type": "markdown",
   "id": "c2258ec5-1703-4d9a-b552-a04d9f6c6f01",
   "metadata": {},
   "source": [
    "## 1、读取NPA文件"
   ]
  },
  {
   "cell_type": "code",
   "execution_count": 2,
   "id": "dfdbe6e7-d8eb-4dd8-9d8e-8fc7764706e8",
   "metadata": {},
   "outputs": [],
   "source": [
    "# 导入相关包\n",
    "import numpy as np \n"
   ]
  },
  {
   "cell_type": "code",
   "execution_count": 3,
   "id": "c3b02878-6a3a-4b0b-82d0-757c0c9efccc",
   "metadata": {},
   "outputs": [],
   "source": [
    "arr = np.load('./data/imageData.npz')"
   ]
  },
  {
   "cell_type": "code",
   "execution_count": 4,
   "id": "449f42e8-d9d6-4698-986e-c2ed3f1792a3",
   "metadata": {},
   "outputs": [
    {
     "data": {
      "text/plain": [
       "array(['1.yes', '1.yes', '1.yes', ..., '3.nose', '3.nose', '3.nose'],\n",
       "      dtype='<U6')"
      ]
     },
     "execution_count": 4,
     "metadata": {},
     "output_type": "execute_result"
    }
   ],
   "source": [
    "arr['arr_1']"
   ]
  },
  {
   "cell_type": "code",
   "execution_count": 5,
   "id": "10c8161e-a7fc-45ae-8cfc-529e2e5b43a4",
   "metadata": {},
   "outputs": [],
   "source": [
    "img_list = arr['arr_0']"
   ]
  },
  {
   "cell_type": "code",
   "execution_count": 6,
   "id": "f20ec404-4634-4adb-9146-f2fcbc91eb9c",
   "metadata": {},
   "outputs": [],
   "source": [
    "label_list = arr['arr_1']"
   ]
  },
  {
   "cell_type": "code",
   "execution_count": 7,
   "id": "4c283b89-5c7c-40d8-8a42-a0abdf8e1469",
   "metadata": {},
   "outputs": [
    {
     "data": {
      "text/plain": [
       "((5328, 100, 100, 3), (5328,))"
      ]
     },
     "execution_count": 7,
     "metadata": {},
     "output_type": "execute_result"
    }
   ],
   "source": [
    "img_list.shape,label_list.shape"
   ]
  },
  {
   "cell_type": "markdown",
   "id": "b5edda16-5c2c-4b96-a622-4a96e69ae84d",
   "metadata": {},
   "source": [
    "## 2、onehot独热编码"
   ]
  },
  {
   "cell_type": "code",
   "execution_count": 8,
   "id": "41d60d13-ab09-47e3-b7eb-5c6fdb076155",
   "metadata": {},
   "outputs": [
    {
     "data": {
      "text/plain": [
       "array(['1.yes', '2.no', '3.nose'], dtype='<U6')"
      ]
     },
     "execution_count": 8,
     "metadata": {},
     "output_type": "execute_result"
    }
   ],
   "source": [
    "np.unique(label_list)"
   ]
  },
  {
   "cell_type": "code",
   "execution_count": 9,
   "id": "bea14a2a-4bca-4671-95c1-6cde092a88f2",
   "metadata": {},
   "outputs": [],
   "source": [
    "from sklearn.preprocessing import OneHotEncoder"
   ]
  },
  {
   "cell_type": "code",
   "execution_count": 10,
   "id": "4f8a6d2b-f9ad-4e2e-9125-131d59c8299c",
   "metadata": {},
   "outputs": [],
   "source": [
    "# 实例化\n",
    "onehot =  OneHotEncoder()"
   ]
  },
  {
   "cell_type": "code",
   "execution_count": 11,
   "id": "4ba72f87-f9d6-4246-a150-c90c510300d9",
   "metadata": {},
   "outputs": [],
   "source": [
    "# 编码\n",
    "y_onehot = onehot.fit_transform(label_list.reshape(-1,1))"
   ]
  },
  {
   "cell_type": "code",
   "execution_count": 12,
   "id": "5689c049-79b3-4696-aa2c-e0d4d1582501",
   "metadata": {},
   "outputs": [],
   "source": [
    "y_onehot_arr = y_onehot.toarray()"
   ]
  },
  {
   "cell_type": "code",
   "execution_count": 13,
   "id": "a79c8c48-f626-41b1-a812-1d88be7689ae",
   "metadata": {},
   "outputs": [
    {
     "data": {
      "text/plain": [
       "array([[1., 0., 0.],\n",
       "       [1., 0., 0.],\n",
       "       [1., 0., 0.],\n",
       "       ...,\n",
       "       [0., 0., 1.],\n",
       "       [0., 0., 1.],\n",
       "       [0., 0., 1.]])"
      ]
     },
     "execution_count": 13,
     "metadata": {},
     "output_type": "execute_result"
    }
   ],
   "source": [
    "y_onehot_arr"
   ]
  },
  {
   "cell_type": "markdown",
   "id": "7e9397ed-8690-4d85-a823-eded0960c57f",
   "metadata": {},
   "source": [
    "## 3、分为tain和test数据"
   ]
  },
  {
   "cell_type": "code",
   "execution_count": 14,
   "id": "c3e22855-ad40-4347-9d1d-8793eb615a13",
   "metadata": {},
   "outputs": [],
   "source": [
    "from sklearn.model_selection import train_test_split"
   ]
  },
  {
   "cell_type": "code",
   "execution_count": 15,
   "id": "d4e2e30a-e684-4d4c-8ed5-5c6b445104fa",
   "metadata": {},
   "outputs": [],
   "source": [
    "x_train,x_test,y_tain,y_test = train_test_split(img_list,y_onehot_arr,test_size=0.2,random_state=42)"
   ]
  },
  {
   "cell_type": "code",
   "execution_count": 16,
   "id": "0fcf874f-9740-4d2a-a34f-7c590694f580",
   "metadata": {},
   "outputs": [
    {
     "data": {
      "text/plain": [
       "((4262, 100, 100, 3), (1066, 100, 100, 3), (4262, 3), (1066, 3))"
      ]
     },
     "execution_count": 16,
     "metadata": {},
     "output_type": "execute_result"
    }
   ],
   "source": [
    "x_train.shape,x_test.shape,y_tain.shape,y_test.shape"
   ]
  },
  {
   "cell_type": "markdown",
   "id": "7db0861a-9d61-4312-ae03-b24519db6483",
   "metadata": {},
   "source": [
    "## 4、搭建CNN模型"
   ]
  },
  {
   "cell_type": "markdown",
   "id": "82dd5753-3d9e-4e96-bb03-3922732354ab",
   "metadata": {},
   "source": [
    "![](./cnn.png)"
   ]
  },
  {
   "cell_type": "code",
   "execution_count": 17,
   "id": "4961488b-0eb6-4e70-9b2c-53d0d6919b92",
   "metadata": {
    "scrolled": true
   },
   "outputs": [],
   "source": [
    "import tensorflow as tf "
   ]
  },
  {
   "cell_type": "code",
   "execution_count": 18,
   "id": "9942720d-6b89-46e5-b2e8-65961d8be4a4",
   "metadata": {},
   "outputs": [],
   "source": [
    "from tensorflow .keras import layers"
   ]
  },
  {
   "cell_type": "code",
   "execution_count": 19,
   "id": "a6b0adf9-46a5-4a6e-9381-b4cd0e091f7d",
   "metadata": {},
   "outputs": [],
   "source": [
    "from tensorflow.keras import Sequential"
   ]
  },
  {
   "cell_type": "code",
   "execution_count": 20,
   "id": "adb9967c-5bb4-4e66-a22b-09a8abe3b62b",
   "metadata": {},
   "outputs": [],
   "source": [
    "model = Sequential([\n",
    "    layers.Conv2D(16,3,padding='same',input_shape=(100,100,3),activation='relu'),\n",
    "    layers.MaxPool2D(),\n",
    "    layers.Conv2D(32,3,padding='same',activation='relu'),\n",
    "    layers.MaxPool2D(),\n",
    "    layers.Conv2D(64,3,padding='same',activation='relu'),\n",
    "    layers.MaxPool2D(),\n",
    "    layers.Flatten(),\n",
    "    layers.Dense(166,activation='relu'),\n",
    "    layers.Dense(22,activation='relu'),\n",
    "    layers.Dense(3,activation='sigmoid')\n",
    "])"
   ]
  },
  {
   "cell_type": "code",
   "execution_count": 21,
   "id": "2286c436-56c3-4f0b-8b58-1acf885b2958",
   "metadata": {},
   "outputs": [],
   "source": [
    "# 编译模型\n",
    "model.compile(optimizer=tf.keras.optimizers.Adam(learning_rate=0.001),loss=tf.keras.losses.categorical_crossentropy,metrics=['accuracy'])"
   ]
  },
  {
   "cell_type": "code",
   "execution_count": 22,
   "id": "e2589813-933b-474c-ab32-9d18aa6476b9",
   "metadata": {},
   "outputs": [
    {
     "name": "stdout",
     "output_type": "stream",
     "text": [
      "Model: \"sequential\"\n",
      "_________________________________________________________________\n",
      "Layer (type)                 Output Shape              Param #   \n",
      "=================================================================\n",
      "conv2d (Conv2D)              (None, 100, 100, 16)      448       \n",
      "_________________________________________________________________\n",
      "max_pooling2d (MaxPooling2D) (None, 50, 50, 16)        0         \n",
      "_________________________________________________________________\n",
      "conv2d_1 (Conv2D)            (None, 50, 50, 32)        4640      \n",
      "_________________________________________________________________\n",
      "max_pooling2d_1 (MaxPooling2 (None, 25, 25, 32)        0         \n",
      "_________________________________________________________________\n",
      "conv2d_2 (Conv2D)            (None, 25, 25, 64)        18496     \n",
      "_________________________________________________________________\n",
      "max_pooling2d_2 (MaxPooling2 (None, 12, 12, 64)        0         \n",
      "_________________________________________________________________\n",
      "flatten (Flatten)            (None, 9216)              0         \n",
      "_________________________________________________________________\n",
      "dense (Dense)                (None, 166)               1530022   \n",
      "_________________________________________________________________\n",
      "dense_1 (Dense)              (None, 22)                3674      \n",
      "_________________________________________________________________\n",
      "dense_2 (Dense)              (None, 3)                 69        \n",
      "=================================================================\n",
      "Total params: 1,557,349\n",
      "Trainable params: 1,557,349\n",
      "Non-trainable params: 0\n",
      "_________________________________________________________________\n"
     ]
    }
   ],
   "source": [
    "# 预览模型\n",
    "model.summary()"
   ]
  },
  {
   "cell_type": "markdown",
   "id": "4c445367-b33c-46bc-9a30-2d99197c3cbe",
   "metadata": {},
   "source": [
    "## 5、训练模型"
   ]
  },
  {
   "cell_type": "code",
   "execution_count": 23,
   "id": "72469e4a-ebd3-46df-8a2e-168c4c72521e",
   "metadata": {
    "scrolled": true
   },
   "outputs": [
    {
     "name": "stdout",
     "output_type": "stream",
     "text": [
      "Epoch 1/10\n",
      "143/143 [==============================] - 6s 32ms/step - loss: 0.3254 - accuracy: 0.8757 - val_loss: 0.1241 - val_accuracy: 0.9587\n",
      "Epoch 2/10\n",
      "143/143 [==============================] - 2s 15ms/step - loss: 0.1023 - accuracy: 0.9686 - val_loss: 0.1026 - val_accuracy: 0.9719\n",
      "Epoch 3/10\n",
      "143/143 [==============================] - 2s 16ms/step - loss: 0.1010 - accuracy: 0.9667 - val_loss: 0.0752 - val_accuracy: 0.9747\n",
      "Epoch 4/10\n",
      "143/143 [==============================] - 2s 16ms/step - loss: 0.0622 - accuracy: 0.9814 - val_loss: 0.1189 - val_accuracy: 0.9634\n",
      "Epoch 5/10\n",
      "143/143 [==============================] - 2s 16ms/step - loss: 0.0399 - accuracy: 0.9891 - val_loss: 0.0672 - val_accuracy: 0.9812\n",
      "Epoch 6/10\n",
      "143/143 [==============================] - 2s 16ms/step - loss: 0.0142 - accuracy: 0.9956 - val_loss: 0.0894 - val_accuracy: 0.9784\n",
      "Epoch 7/10\n",
      "143/143 [==============================] - 2s 16ms/step - loss: 0.0232 - accuracy: 0.9933 - val_loss: 0.0779 - val_accuracy: 0.9794\n",
      "Epoch 8/10\n",
      "143/143 [==============================] - 2s 16ms/step - loss: 0.0171 - accuracy: 0.9952 - val_loss: 0.0842 - val_accuracy: 0.9794\n",
      "Epoch 9/10\n",
      "143/143 [==============================] - 2s 16ms/step - loss: 0.0119 - accuracy: 0.9965 - val_loss: 0.0950 - val_accuracy: 0.9803\n",
      "Epoch 10/10\n",
      "143/143 [==============================] - 2s 16ms/step - loss: 0.0035 - accuracy: 0.9992 - val_loss: 0.0889 - val_accuracy: 0.9869\n"
     ]
    }
   ],
   "source": [
    "history = model.fit(x=x_train,y=y_tain,validation_data=(x_test,y_test),batch_size=30,epochs=10)"
   ]
  },
  {
   "cell_type": "code",
   "execution_count": 24,
   "id": "4f6bb3e8-43c0-4d17-a88e-63e2728c0a85",
   "metadata": {},
   "outputs": [],
   "source": [
    "# 查看训练效果\n",
    "import pandas as pd\n",
    "import matplotlib.pyplot as plt\n",
    "%matplotlib inline"
   ]
  },
  {
   "cell_type": "code",
   "execution_count": 26,
   "id": "8d48ab0c-cb3c-4acb-b37a-1aa2f9acb1b6",
   "metadata": {
    "scrolled": true
   },
   "outputs": [],
   "source": [
    "history_pd = pd.DataFrame(history.history)"
   ]
  },
  {
   "cell_type": "code",
   "execution_count": 27,
   "id": "f55f6658-d639-4003-8a77-a7f2010719c8",
   "metadata": {},
   "outputs": [
    {
     "data": {
      "text/html": [
       "<div>\n",
       "<style scoped>\n",
       "    .dataframe tbody tr th:only-of-type {\n",
       "        vertical-align: middle;\n",
       "    }\n",
       "\n",
       "    .dataframe tbody tr th {\n",
       "        vertical-align: top;\n",
       "    }\n",
       "\n",
       "    .dataframe thead th {\n",
       "        text-align: right;\n",
       "    }\n",
       "</style>\n",
       "<table border=\"1\" class=\"dataframe\">\n",
       "  <thead>\n",
       "    <tr style=\"text-align: right;\">\n",
       "      <th></th>\n",
       "      <th>loss</th>\n",
       "      <th>accuracy</th>\n",
       "      <th>val_loss</th>\n",
       "      <th>val_accuracy</th>\n",
       "    </tr>\n",
       "  </thead>\n",
       "  <tbody>\n",
       "    <tr>\n",
       "      <th>0</th>\n",
       "      <td>0.193270</td>\n",
       "      <td>0.934069</td>\n",
       "      <td>0.124076</td>\n",
       "      <td>0.958724</td>\n",
       "    </tr>\n",
       "    <tr>\n",
       "      <th>1</th>\n",
       "      <td>0.091632</td>\n",
       "      <td>0.971844</td>\n",
       "      <td>0.102583</td>\n",
       "      <td>0.971857</td>\n",
       "    </tr>\n",
       "    <tr>\n",
       "      <th>2</th>\n",
       "      <td>0.087157</td>\n",
       "      <td>0.972079</td>\n",
       "      <td>0.075211</td>\n",
       "      <td>0.974672</td>\n",
       "    </tr>\n",
       "    <tr>\n",
       "      <th>3</th>\n",
       "      <td>0.049634</td>\n",
       "      <td>0.984280</td>\n",
       "      <td>0.118870</td>\n",
       "      <td>0.963415</td>\n",
       "    </tr>\n",
       "    <tr>\n",
       "      <th>4</th>\n",
       "      <td>0.032795</td>\n",
       "      <td>0.991319</td>\n",
       "      <td>0.067218</td>\n",
       "      <td>0.981238</td>\n",
       "    </tr>\n",
       "    <tr>\n",
       "      <th>5</th>\n",
       "      <td>0.016716</td>\n",
       "      <td>0.995307</td>\n",
       "      <td>0.089436</td>\n",
       "      <td>0.978424</td>\n",
       "    </tr>\n",
       "    <tr>\n",
       "      <th>6</th>\n",
       "      <td>0.022719</td>\n",
       "      <td>0.992726</td>\n",
       "      <td>0.077937</td>\n",
       "      <td>0.979362</td>\n",
       "    </tr>\n",
       "    <tr>\n",
       "      <th>7</th>\n",
       "      <td>0.018047</td>\n",
       "      <td>0.994134</td>\n",
       "      <td>0.084211</td>\n",
       "      <td>0.979362</td>\n",
       "    </tr>\n",
       "    <tr>\n",
       "      <th>8</th>\n",
       "      <td>0.012812</td>\n",
       "      <td>0.995542</td>\n",
       "      <td>0.095034</td>\n",
       "      <td>0.980300</td>\n",
       "    </tr>\n",
       "    <tr>\n",
       "      <th>9</th>\n",
       "      <td>0.003957</td>\n",
       "      <td>0.999061</td>\n",
       "      <td>0.088862</td>\n",
       "      <td>0.986867</td>\n",
       "    </tr>\n",
       "  </tbody>\n",
       "</table>\n",
       "</div>"
      ],
      "text/plain": [
       "       loss  accuracy  val_loss  val_accuracy\n",
       "0  0.193270  0.934069  0.124076      0.958724\n",
       "1  0.091632  0.971844  0.102583      0.971857\n",
       "2  0.087157  0.972079  0.075211      0.974672\n",
       "3  0.049634  0.984280  0.118870      0.963415\n",
       "4  0.032795  0.991319  0.067218      0.981238\n",
       "5  0.016716  0.995307  0.089436      0.978424\n",
       "6  0.022719  0.992726  0.077937      0.979362\n",
       "7  0.018047  0.994134  0.084211      0.979362\n",
       "8  0.012812  0.995542  0.095034      0.980300\n",
       "9  0.003957  0.999061  0.088862      0.986867"
      ]
     },
     "execution_count": 27,
     "metadata": {},
     "output_type": "execute_result"
    }
   ],
   "source": [
    "history_pd"
   ]
  },
  {
   "cell_type": "code",
   "execution_count": 29,
   "id": "142d3dca-db83-45d5-8d03-001181913fbc",
   "metadata": {},
   "outputs": [
    {
     "data": {
      "image/png": "[encoded data removed]",
      "text/plain": [
       "<Figure size 640x480 with 1 Axes>"
      ]
     },
     "metadata": {},
     "output_type": "display_data"
    }
   ],
   "source": [
    "# 查看损失\n",
    "plt.plot(history_pd['loss'])\n",
    "plt.plot(history_pd['val_loss'])\n",
    "plt.title('Model_loss')\n",
    "plt.xlabel('epochs')\n",
    "plt.ylabel('loss')\n",
    "plt.legend(['train set','test_set'],loc='upper right')\n",
    "plt.show()"
   ]
  },
  {
   "cell_type": "code",
   "execution_count": 30,
   "id": "ad42de65-fff4-40d5-9910-eff7d899dd0d",
   "metadata": {},
   "outputs": [
    {
     "data": {
      "image/png": "[encoded data removed]",
      "text/plain": [
       "<Figure size 640x480 with 1 Axes>"
      ]
     },
     "metadata": {},
     "output_type": "display_data"
    }
   ],
   "source": [
    "# 查看准确率\n",
    "plt.plot(history_pd['accuracy'])\n",
    "plt.plot(history_pd['val_accuracy'])\n",
    "plt.title('Model_accuracy')\n",
    "plt.xlabel('epochs')\n",
    "plt.ylabel('loss')\n",
    "plt.legend(['train set','test_set'],loc='upper right')\n",
    "plt.show()"
   ]
  },
  {
   "cell_type": "markdown",
   "id": "256cb311-d3eb-4f5b-9b0d-d112e3fb7615",
   "metadata": {},
   "source": [
    "## 6、保存模型"
   ]
  },
  {
   "cell_type": "code",
   "execution_count": 32,
   "id": "6d02a5a7-8b4c-41cc-a328-2cd64a75a8ee",
   "metadata": {},
   "outputs": [],
   "source": [
    "model.save('./data/face_mask_model.h5')"
   ]
  },
  {
   "cell_type": "code",
   "execution_count": null,
   "id": "e13e6748-1165-4d18-ace7-d6b4230de93e",
   "metadata": {},
   "outputs": [],
   "source": []
  }
 ],
 "metadata": {
  "kernelspec": {
   "display_name": "Python 3 (ipykernel)",
   "language": "python",
   "name": "python3"
  },
  "language_info": {
   "codemirror_mode": {
    "name": "ipython",
    "version": 3
   },
   "file_extension": ".py",
   "mimetype": "text/x-python",
   "name": "python",
   "nbconvert_exporter": "python",
   "pygments_lexer": "ipython3",
   "version": "3.8.19"
  }
 },
 "nbformat": 4,
 "nbformat_minor": 5
}
